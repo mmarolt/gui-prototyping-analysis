{
 "cells": [
  {
   "metadata": {},
   "cell_type": "markdown",
   "source": [
    "# Kreiranje opisov GUI\n",
    "\n",
    "## Uvoz knjižnic in nastavitev okolja"
   ]
  },
  {
   "metadata": {
    "ExecuteTime": {
     "end_time": "2025-10-04T10:29:31.204681Z",
     "start_time": "2025-10-04T10:29:31.099685Z"
    }
   },
   "cell_type": "code",
   "outputs": [],
   "execution_count": 49,
   "source": [
    "import pandas as pd\n",
    "import os\n",
    "import base64\n",
    "from pathlib import Path\n",
    "from langchain_google_genai import ChatGoogleGenerativeAI\n",
    "from langchain.chains import LLMChain\n",
    "from langfuse.callback import CallbackHandler\n",
    "from langchain.prompts import PromptTemplate\n",
    "from dotenv import load_dotenv\n",
    "from langchain_core.messages import HumanMessage\n",
    "import csv\n",
    "\n",
    "load_dotenv()\n",
    "handler = CallbackHandler(os.environ.get(\"LANGFUSE_PUBLIC_KEY\"), os.environ.get(\"LANGFUSE_SECRET_KEY\"))\n",
    "\n",
    "IMAGE_INPUT_FOLDER = \"rico_guis/\"\n",
    "MODEL = \"gemini-2.0-flash\"\n",
    "IMAGE_TYPE = \"image/jpeg\"\n",
    "TEMP=0.7\n",
    "OUTPUT_FILE = \"rico_guis_descriptions.csv\""
   ]
  },
  {
   "metadata": {},
   "cell_type": "markdown",
   "source": [
    "## Definicija prompta za generiranje opisa aplikacij\n",
    "\n",
    "Kot primer sta podana opisa za GUI prikazana na slikah 377.jpg in 1264.jpg\n"
   ]
  },
  {
   "metadata": {
    "ExecuteTime": {
     "end_time": "2025-10-04T10:29:33.601685Z",
     "start_time": "2025-10-04T10:29:33.591685Z"
    }
   },
   "cell_type": "code",
   "source": [
    "PROMPT = \"\"\"\n",
    "Q:\n",
    "Given a screenshot of a mobile application page, write a clear and concise requirements description as if provided by a client who wants to have an application exactly like the one shown. Focus on functional and design requirements the client would specify, such as the purpose of the app, main features, target users, and expected user experience. Phrase the requirements from the client’s perspective (e.g., 'The application should allow users to...'). Avoid technical implementation details and only describe what the client would expect the app to do and look like.\n",
    "\n",
    "A:\n",
    "The application should allow users to search for flights quickly and easily.\n",
    "Users must be able to select departure and destination cities from input fields.\n",
    "The app should support both round-trip and one-way flight options.\n",
    "There must be a date selector for choosing travel dates.\n",
    "Users should be able to select the travel class (e.g., Economy, Business, First Class).\n",
    "The system should allow specifying the number of passengers, divided into Adults, Children, and Infants.\n",
    "The interface should have a prominent \"Search Flights\" button that starts the search.\n",
    "The app should remember and display the user’s last searches for quick access.\n",
    "The design should be clean, intuitive, and optimized for mobile use, with a bright and engaging color scheme.\n",
    "\n",
    "Q:\n",
    "Given a screenshot of a mobile application page, write a clear and concise requirements description as if provided by a client who wants to have an application exactly like the one shown. Focus on functional and design requirements the client would specify, such as the purpose of the app, main features, target users, and expected user experience. Phrase the requirements from the client’s perspective (e.g., 'The application should allow users to...'). Avoid technical implementation details and only describe what the client would expect the app to do and look like.\n",
    "\n",
    "A:\n",
    "The application should guide users through workout sessions in a simple and engaging way.\n",
    "The main screen must have a clear \"Start Workout\" button that begins the training session immediately.\n",
    "Users should be able to choose the type of workout (e.g., Full Body, Upper Body, Lower Body, etc.).\n",
    "The app should allow configuration of workout parameters such as number of circuits.\n",
    "An instructor option should be available, with selectable modes (e.g., Announcer, Silent, or other voice/instruction styles).\n",
    "The navigation bar at the bottom should give access to key sections: Workout, Learn, Achievements, and Track.\n",
    "The design should use a clean, minimalistic style with intuitive icons and large touch-friendly buttons.\n",
    "The app should be optimized for quick use during physical activity, minimizing the need for manual input once a workout begins.\n",
    "\n",
    "Q:\n",
    "Given a screenshot of a mobile application page, write a clear and concise requirements description as if provided by a client who wants to have an application exactly like the one shown. Focus on functional and design requirements the client would specify, such as the purpose of the app, main features, target users, and expected user experience. Phrase the requirements from the client’s perspective (e.g., 'The application should allow users to...'). Avoid technical implementation details and only describe what the client would expect the app to do and look like.\n",
    "\n",
    "A:\n",
    "\"\"\""
   ],
   "outputs": [],
   "execution_count": 51
  },
  {
   "metadata": {},
   "cell_type": "markdown",
   "source": "## Kodiranje in opisovanje slik mobilnih aplikacij"
  },
  {
   "metadata": {
    "ExecuteTime": {
     "end_time": "2025-10-04T10:29:35.201682Z",
     "start_time": "2025-10-04T10:29:35.189685Z"
    }
   },
   "cell_type": "code",
   "source": [
    "def encode_image(image_path):\n",
    "    with open(image_path,\"rb\") as image_file:\n",
    "        return base64.b64encode(image_file.read()).decode('utf-8')\n"
   ],
   "outputs": [],
   "execution_count": 52
  },
  {
   "cell_type": "code",
   "metadata": {
    "ExecuteTime": {
     "end_time": "2025-10-04T10:29:36.423686Z",
     "start_time": "2025-10-04T10:29:36.411683Z"
    }
   },
   "source": [
    "def describe_image(image_path):\n",
    "    base64_image = encode_image(image_path)\n",
    "\n",
    "    llm = ChatGoogleGenerativeAI(model=MODEL, temperature=TEMP)\n",
    "\n",
    "    response = llm.invoke([\n",
    "        HumanMessage(\n",
    "            content=[\n",
    "                {\"type\": \"text\", \"text\": PROMPT},\n",
    "                {\n",
    "                    \"type\": \"image_url\",\n",
    "                    \"image_url\": f\"data:{IMAGE_TYPE};base64,{base64_image}\"\n",
    "                }\n",
    "            ]\n",
    "        )\n",
    "    ])\n",
    "\n",
    "    return response.content"
   ],
   "outputs": [],
   "execution_count": 53
  },
  {
   "metadata": {},
   "cell_type": "markdown",
   "source": "## Pipeline za generiranje opisov in shranjevanje rezultatov"
  },
  {
   "cell_type": "code",
   "metadata": {
    "ExecuteTime": {
     "end_time": "2025-10-04T10:29:37.906682Z",
     "start_time": "2025-10-04T10:29:37.894684Z"
    }
   },
   "source": [
    "def pipeline():\n",
    "    directory_path = Path(IMAGE_INPUT_FOLDER)\n",
    "    data = []\n",
    "\n",
    "    if not os.path.exists(OUTPUT_FILE):\n",
    "        with open(OUTPUT_FILE, mode=\"w\", newline=\"\", encoding=\"utf-8\") as f:\n",
    "            writer = csv.DictWriter(f, fieldnames=[\"UI_Number\", \"Summary\"])\n",
    "            writer.writeheader()\n",
    "\n",
    "    for item in directory_path.iterdir():\n",
    "        if item.suffix.lower() in [\".jpg\", \".jpeg\"]:\n",
    "        # if item.name == \"7757.jpg\":\n",
    "            try:\n",
    "                response = describe_image(item)\n",
    "                summary = response\n",
    "                new_data = {\"UI_Number\": item.stem, \"Summary\": summary}\n",
    "                data.append(new_data)\n",
    "\n",
    "                with open(OUTPUT_FILE, mode=\"a\", newline=\"\", encoding=\"utf-8\") as f:\n",
    "                    writer = csv.DictWriter(f, fieldnames=[\"UI_Number\", \"Summary\"])\n",
    "                    writer.writerow(new_data)\n",
    "            except Exception as e:\n",
    "                print(f\"Napaka pri obdelavi {item.name}: {e}\")\n",
    "                continue\n",
    "\n",
    "    return pd.DataFrame(data)"
   ],
   "outputs": [],
   "execution_count": 54
  },
  {
   "cell_type": "code",
   "metadata": {
    "ExecuteTime": {
     "end_time": "2025-10-04T10:29:48.937130Z",
     "start_time": "2025-10-04T10:29:48.905134Z"
    }
   },
   "source": [
    "df = pipeline()\n",
    "df"
   ],
   "outputs": [
    {
     "data": {
      "text/plain": [
       "Empty DataFrame\n",
       "Columns: []\n",
       "Index: []"
      ],
      "text/html": [
       "<div>\n",
       "<style scoped>\n",
       "    .dataframe tbody tr th:only-of-type {\n",
       "        vertical-align: middle;\n",
       "    }\n",
       "\n",
       "    .dataframe tbody tr th {\n",
       "        vertical-align: top;\n",
       "    }\n",
       "\n",
       "    .dataframe thead th {\n",
       "        text-align: right;\n",
       "    }\n",
       "</style>\n",
       "<table border=\"1\" class=\"dataframe\">\n",
       "  <thead>\n",
       "    <tr style=\"text-align: right;\">\n",
       "      <th></th>\n",
       "    </tr>\n",
       "  </thead>\n",
       "  <tbody>\n",
       "  </tbody>\n",
       "</table>\n",
       "</div>"
      ]
     },
     "execution_count": 55,
     "metadata": {},
     "output_type": "execute_result"
    }
   ],
   "execution_count": 55
  },
  {
   "metadata": {},
   "cell_type": "markdown",
   "source": "### Generiranje posameznih opisov"
  },
  {
   "metadata": {
    "ExecuteTime": {
     "end_time": "2025-10-04T10:31:04.111719Z",
     "start_time": "2025-10-04T10:31:01.428724Z"
    }
   },
   "cell_type": "code",
   "source": [
    "ids = [3727,8640,12740,14283,20947,27360,27382,27707,31390,32310,33383,34517,35526,37505,40673,43872,43977,44756,47926,53469,54468,56905,58124,59429,59576,61851,64858,65592,67540,68368,69574,70410]\n",
    "images_path = Path(\"rico_guis\")\n",
    "summary_path = \"dataset.csv\"\n",
    "data = []\n",
    "\n",
    "if not os.path.exists(summary_path):\n",
    "    with open(summary_path, mode=\"w\", newline=\"\", encoding=\"utf-8\") as f:\n",
    "        writer = csv.DictWriter(f, fieldnames=[\"UI_Number\", \"Summary\"])\n",
    "        writer.writeheader()\n",
    "\n",
    "for item in images_path.iterdir():\n",
    "    if item.suffix.lower() in [\".jpg\", \".jpeg\"] and int(item.name.split(\".\")[0]) in ids:\n",
    "        try:\n",
    "            response = describe_image(item)\n",
    "            summary = response\n",
    "            new_data = {\"UI_Number\": item.stem, \"Summary\": summary}\n",
    "            data.append(new_data)\n",
    "\n",
    "            with open(summary_path, mode=\"a\", newline=\"\", encoding=\"utf-8\") as f:\n",
    "                writer = csv.DictWriter(f, fieldnames=[\"UI_Number\", \"Summary\"])\n",
    "                writer.writerow(new_data)\n",
    "        except Exception as e:\n",
    "            print(f\"Napaka pri obdelavi {item.name}: {e}\")\n",
    "            continue\n",
    "\n",
    "pd.DataFrame(data)"
   ],
   "outputs": [
    {
     "data": {
      "text/plain": [
       "  UI_Number                                            Summary\n",
       "0      8640  The application should announce events, such a..."
      ],
      "text/html": [
       "<div>\n",
       "<style scoped>\n",
       "    .dataframe tbody tr th:only-of-type {\n",
       "        vertical-align: middle;\n",
       "    }\n",
       "\n",
       "    .dataframe tbody tr th {\n",
       "        vertical-align: top;\n",
       "    }\n",
       "\n",
       "    .dataframe thead th {\n",
       "        text-align: right;\n",
       "    }\n",
       "</style>\n",
       "<table border=\"1\" class=\"dataframe\">\n",
       "  <thead>\n",
       "    <tr style=\"text-align: right;\">\n",
       "      <th></th>\n",
       "      <th>UI_Number</th>\n",
       "      <th>Summary</th>\n",
       "    </tr>\n",
       "  </thead>\n",
       "  <tbody>\n",
       "    <tr>\n",
       "      <th>0</th>\n",
       "      <td>8640</td>\n",
       "      <td>The application should announce events, such a...</td>\n",
       "    </tr>\n",
       "  </tbody>\n",
       "</table>\n",
       "</div>"
      ]
     },
     "execution_count": 57,
     "metadata": {},
     "output_type": "execute_result"
    }
   ],
   "execution_count": 57
  }
 ],
 "metadata": {
  "kernelspec": {
   "display_name": ".venv",
   "language": "python",
   "name": "python3"
  },
  "language_info": {
   "codemirror_mode": {
    "name": "ipython",
    "version": 3
   },
   "file_extension": ".py",
   "mimetype": "text/x-python",
   "name": "python",
   "nbconvert_exporter": "python",
   "pygments_lexer": "ipython3",
   "version": "3.11.0"
  }
 },
 "nbformat": 4,
 "nbformat_minor": 2
}
