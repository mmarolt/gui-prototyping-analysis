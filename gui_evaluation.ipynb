{
 "cells": [
  {
   "metadata": {},
   "cell_type": "markdown",
   "source": [
    "# Evalvacija GUI\n",
    "\n",
    "Ta datoteka je namenjena ocenjevanju generiranih prototipov GUI z uporabo kvantitativnih metrik."
   ],
   "id": "faf449f263cdf941"
  },
  {
   "metadata": {},
   "cell_type": "markdown",
   "source": "## Uvoz knjižnic in nastavitev okolja",
   "id": "203b515f2445bb58"
  },
  {
   "metadata": {
    "collapsed": true,
    "ExecuteTime": {
     "end_time": "2025-10-05T20:04:55.912492Z",
     "start_time": "2025-10-05T20:04:55.900490Z"
    }
   },
   "cell_type": "code",
   "source": [
    "import os\n",
    "import json\n",
    "import numpy as np\n",
    "import pandas as pd\n",
    "from PIL import Image\n",
    "from skimage.metrics import structural_similarity as ssim\n",
    "from bs4 import BeautifulSoup\n",
    "import matplotlib.pyplot as plt\n",
    "from IPython.display import display, HTML\n",
    "from html2image import Html2Image\n",
    "from selenium import webdriver\n",
    "from selenium.webdriver.chrome.options import Options"
   ],
   "id": "initial_id",
   "outputs": [],
   "execution_count": 71
  },
  {
   "metadata": {
    "ExecuteTime": {
     "end_time": "2025-10-05T20:04:56.436609Z",
     "start_time": "2025-10-05T20:04:56.424611Z"
    }
   },
   "cell_type": "code",
   "source": [
    "original_path = \"rico_guis\"\n",
    "generated_path = \"generated_guis\"\n",
    "\n",
    "prompt_types = [\"instruction\", \"pd_fs\", \"pd_zs\", \"ref_instruction\"]"
   ],
   "id": "f74101db2c4e89ba",
   "outputs": [],
   "execution_count": 72
  },
  {
   "metadata": {},
   "cell_type": "markdown",
   "source": [
    "## Metrike\n",
    "\n",
    "- **SSIM** za vizualno podobnost.\n",
    "- **DOM Complexity** z uporabo štetja DOM elementov.\n",
    "- **Layout Area** s seštevanjem omejevalnih okvirjev elementov (prek razčlenjevanja slogov v vrstici)\n"
   ],
   "id": "c0e5d84123f0efaa"
  },
  {
   "metadata": {
    "ExecuteTime": {
     "end_time": "2025-10-05T20:04:58.827611Z",
     "start_time": "2025-10-05T20:04:58.802610Z"
    }
   },
   "cell_type": "code",
   "source": [
    "def render_html_to_image(html_path, output_image_path):\n",
    "    try:\n",
    "        hti = Html2Image(output_path=os.path.dirname(output_image_path))\n",
    "        hti.screenshot(\n",
    "            html_file=html_path,\n",
    "            save_as=os.path.basename(output_image_path)\n",
    "        )\n",
    "        return output_image_path\n",
    "    except Exception as e:\n",
    "        print(f\"Rendering error {html_path}: {e}\")\n",
    "        return None\n",
    "\n",
    "def compute_ssim(image1_path, image2_path):\n",
    "    try:\n",
    "        img1 = Image.open(image1_path).convert(\"L\").resize((256, 256))\n",
    "        img2 = Image.open(image2_path).convert(\"L\").resize((256, 256))\n",
    "        ssim_val = ssim(np.array(img1), np.array(img2))\n",
    "        return ssim_val\n",
    "    except Exception as e:\n",
    "        print(f\"Error comparing {image1_path} and {image2_path}: {e}\")\n",
    "        return np.nan\n",
    "\n",
    "def compute_dom_complexity(html_path):\n",
    "    try:\n",
    "        with open(html_path, \"r\", encoding=\"utf-8\") as f:\n",
    "            soup = BeautifulSoup(f, \"html.parser\")\n",
    "        return len(soup.find_all())\n",
    "    except Exception as e:\n",
    "        print(f\"Error parsing {html_path}: {e}\")\n",
    "        return np.nan\n",
    "\n",
    "def json_find_bounds(obj):\n",
    "    bounds_list = []\n",
    "    if isinstance(obj, dict):\n",
    "        for k, v in obj.items():\n",
    "            if k == \"bounds\":\n",
    "                x = v[0]\n",
    "                y = v[1]\n",
    "                w = v[2]\n",
    "                h = v[3]\n",
    "                bounds_list.append((x, y, x + w, y + h))\n",
    "            else:\n",
    "                bounds_list.extend(json_find_bounds(v))\n",
    "    elif isinstance(obj, list):\n",
    "        for item in obj:\n",
    "            bounds_list.extend(json_find_bounds(item))\n",
    "    return bounds_list\n",
    "\n",
    "def html_find_bounds(html_path):\n",
    "    try:\n",
    "        chrome_options = Options()\n",
    "        chrome_options.add_argument(\"--headless\")\n",
    "        driver = webdriver.Chrome(options=chrome_options)\n",
    "        driver.set_window_size(1440, 2560)\n",
    "        driver.get(f\"C:\\\\Users\\Marija\\IdeaProjects\\gui-prototyping-analysis\\\\{html_path}\")\n",
    "        elements = driver.find_elements(\"css selector\", \"*\")\n",
    "\n",
    "        bounds_list = []\n",
    "        for el in elements:\n",
    "            rect = driver.execute_script(\"\"\"\n",
    "                var rect = arguments[0].getBoundingClientRect();\n",
    "                return {left: rect.left, top: rect.top, width: rect.width, height: rect.height};\n",
    "            \"\"\", el)\n",
    "            if rect['width'] > 0 and rect['height'] > 0:\n",
    "                x = rect[\"left\"]\n",
    "                y = rect[\"top\"]\n",
    "                w = rect[\"width\"]\n",
    "                h = rect[\"height\"]\n",
    "                bounds_list.append((x, y, x + w, y + h))\n",
    "\n",
    "        driver.quit()\n",
    "        return bounds_list\n",
    "\n",
    "    except Exception as e:\n",
    "        print(f\"Error parsing {html_path}: {e}\")\n",
    "        return np.nan\n",
    "\n",
    "def intersection_area(box1, box2):\n",
    "    x1 = max(box1[0], box2[0])\n",
    "    y1 = max(box1[1], box2[1])\n",
    "    x2 = min(box1[2], box2[2])\n",
    "    y2 = min(box1[3], box2[3])\n",
    "    if x2 < x1 or y2 < y1:\n",
    "        return 0\n",
    "    return (x2 - x1) * (y2 - y1)\n",
    "\n",
    "def extract_layout_area(json_path, html_path):\n",
    "    if not os.path.exists(json_path):\n",
    "        print(f\"JSON does not exist {json_path}\")\n",
    "        return 0.0\n",
    "\n",
    "    try:\n",
    "        with open(json_path, 'r') as f:\n",
    "            data = json.load(f)\n",
    "\n",
    "        original_boxes = []\n",
    "        bounds = json_find_bounds(data)\n",
    "        original_boxes.extend(bounds)\n",
    "\n",
    "        generated_boxes = html_find_bounds(html_path)\n",
    "\n",
    "        if not original_boxes or not generated_boxes:\n",
    "            return 0.0\n",
    "\n",
    "        total_intersection = 0\n",
    "        total_area = sum((b[2] - b[0]) * (b[3] - b[1]) for b in original_boxes)\n",
    "\n",
    "        for obox in original_boxes:\n",
    "            for gbox in generated_boxes:\n",
    "                total_intersection += intersection_area(obox, gbox)\n",
    "\n",
    "        return total_intersection / total_area if total_area > 0 else 0.0\n",
    "\n",
    "    except Exception as e:\n",
    "        print(f\"Error parsing {json_path}: {e}\")\n",
    "        return 0.0"
   ],
   "id": "5d25a907a18c5356",
   "outputs": [],
   "execution_count": 73
  },
  {
   "metadata": {},
   "cell_type": "markdown",
   "source": "## Evalvacija",
   "id": "97a57ecad5a3f6ad"
  },
  {
   "metadata": {
    "ExecuteTime": {
     "end_time": "2025-10-05T20:36:09.075992Z",
     "start_time": "2025-10-05T20:05:08.699605Z"
    }
   },
   "cell_type": "code",
   "source": [
    "results = []\n",
    "\n",
    "for gui_id in os.listdir(original_path):\n",
    "    if not gui_id.endswith(\".jpg\") or not os.path.join(generated_path, gui_num):\n",
    "        continue\n",
    "    gui_num = gui_id.split(\".\")[0]\n",
    "    original_img_path = os.path.join(original_path, gui_id)\n",
    "    original_json_path = os.path.join(original_path, f\"{gui_num}.json\")\n",
    "\n",
    "    for prompt in prompt_types:\n",
    "        html_path = os.path.join(generated_path, gui_num, f\"{prompt}.html\")\n",
    "        html_img_path = os.path.join(generated_path, gui_num, f\"{prompt}.png\")\n",
    "\n",
    "        dom_complexity = compute_dom_complexity(html_path)\n",
    "        layout_area = extract_layout_area(original_json_path, html_path)\n",
    "        rendered_img_path = render_html_to_image(html_path, html_img_path)\n",
    "        ssim_score = compute_ssim(original_img_path, rendered_img_path)\n",
    "\n",
    "        results.append({\n",
    "            \"GUI_ID\": gui_num,\n",
    "            \"Prompt\": prompt,\n",
    "            \"DOM_Complexity\": dom_complexity,\n",
    "            \"Layout_Area\": layout_area,\n",
    "            \"SSIM_Score\": ssim_score\n",
    "        })\n",
    "\n",
    "df = pd.DataFrame(results)\n",
    "# df.head()\n",
    "df"
   ],
   "id": "4fca6ee72b4b6322",
   "outputs": [
    {
     "name": "stdout",
     "output_type": "stream",
     "text": [
      "Error parsing generated_guis\\31390\\pd_fs.html: [Errno 2] No such file or directory: 'generated_guis\\\\31390\\\\pd_fs.html'\n",
      "Rendering error generated_guis\\31390\\pd_fs.html: generated_guis\\31390\\pd_fs.html\n",
      "Error comparing rico_guis\\31390.jpg and None: 'NoneType' object has no attribute 'read'\n",
      "Error parsing generated_guis\\31390\\ref_instruction.html: [Errno 2] No such file or directory: 'generated_guis\\\\31390\\\\ref_instruction.html'\n",
      "Rendering error generated_guis\\31390\\ref_instruction.html: generated_guis\\31390\\ref_instruction.html\n",
      "Error comparing rico_guis\\31390.jpg and None: 'NoneType' object has no attribute 'read'\n",
      "Error parsing generated_guis\\32310\\pd_fs.html: [Errno 2] No such file or directory: 'generated_guis\\\\32310\\\\pd_fs.html'\n",
      "Rendering error generated_guis\\32310\\pd_fs.html: generated_guis\\32310\\pd_fs.html\n",
      "Error comparing rico_guis\\32310.jpg and None: 'NoneType' object has no attribute 'read'\n",
      "Error parsing generated_guis\\32310\\pd_zs.html: [Errno 2] No such file or directory: 'generated_guis\\\\32310\\\\pd_zs.html'\n",
      "Rendering error generated_guis\\32310\\pd_zs.html: generated_guis\\32310\\pd_zs.html\n",
      "Error comparing rico_guis\\32310.jpg and None: 'NoneType' object has no attribute 'read'\n",
      "Error parsing generated_guis\\32310\\ref_instruction.html: [Errno 2] No such file or directory: 'generated_guis\\\\32310\\\\ref_instruction.html'\n",
      "Rendering error generated_guis\\32310\\ref_instruction.html: generated_guis\\32310\\ref_instruction.html\n",
      "Error comparing rico_guis\\32310.jpg and None: 'NoneType' object has no attribute 'read'\n"
     ]
    },
    {
     "data": {
      "text/plain": [
       "    GUI_ID           Prompt  DOM_Complexity  Layout_Area  SSIM_Score\n",
       "0    12740      instruction            33.0     1.728515    0.220990\n",
       "1    12740            pd_fs            30.0     0.637050    0.212758\n",
       "2    12740            pd_zs            33.0     1.621243    0.225399\n",
       "3    12740  ref_instruction            36.0     0.893268    0.216942\n",
       "4    14283      instruction            31.0     0.853779    0.520935\n",
       "..     ...              ...             ...          ...         ...\n",
       "171  70410  ref_instruction            71.0     2.051737    0.554354\n",
       "172   8640      instruction            38.0     0.824213    0.352269\n",
       "173   8640            pd_fs            55.0     0.559332    0.334781\n",
       "174   8640            pd_zs            65.0     0.867127    0.332594\n",
       "175   8640  ref_instruction            85.0     0.764379    0.345376\n",
       "\n",
       "[176 rows x 5 columns]"
      ],
      "text/html": [
       "<div>\n",
       "<style scoped>\n",
       "    .dataframe tbody tr th:only-of-type {\n",
       "        vertical-align: middle;\n",
       "    }\n",
       "\n",
       "    .dataframe tbody tr th {\n",
       "        vertical-align: top;\n",
       "    }\n",
       "\n",
       "    .dataframe thead th {\n",
       "        text-align: right;\n",
       "    }\n",
       "</style>\n",
       "<table border=\"1\" class=\"dataframe\">\n",
       "  <thead>\n",
       "    <tr style=\"text-align: right;\">\n",
       "      <th></th>\n",
       "      <th>GUI_ID</th>\n",
       "      <th>Prompt</th>\n",
       "      <th>DOM_Complexity</th>\n",
       "      <th>Layout_Area</th>\n",
       "      <th>SSIM_Score</th>\n",
       "    </tr>\n",
       "  </thead>\n",
       "  <tbody>\n",
       "    <tr>\n",
       "      <th>0</th>\n",
       "      <td>12740</td>\n",
       "      <td>instruction</td>\n",
       "      <td>33.0</td>\n",
       "      <td>1.728515</td>\n",
       "      <td>0.220990</td>\n",
       "    </tr>\n",
       "    <tr>\n",
       "      <th>1</th>\n",
       "      <td>12740</td>\n",
       "      <td>pd_fs</td>\n",
       "      <td>30.0</td>\n",
       "      <td>0.637050</td>\n",
       "      <td>0.212758</td>\n",
       "    </tr>\n",
       "    <tr>\n",
       "      <th>2</th>\n",
       "      <td>12740</td>\n",
       "      <td>pd_zs</td>\n",
       "      <td>33.0</td>\n",
       "      <td>1.621243</td>\n",
       "      <td>0.225399</td>\n",
       "    </tr>\n",
       "    <tr>\n",
       "      <th>3</th>\n",
       "      <td>12740</td>\n",
       "      <td>ref_instruction</td>\n",
       "      <td>36.0</td>\n",
       "      <td>0.893268</td>\n",
       "      <td>0.216942</td>\n",
       "    </tr>\n",
       "    <tr>\n",
       "      <th>4</th>\n",
       "      <td>14283</td>\n",
       "      <td>instruction</td>\n",
       "      <td>31.0</td>\n",
       "      <td>0.853779</td>\n",
       "      <td>0.520935</td>\n",
       "    </tr>\n",
       "    <tr>\n",
       "      <th>...</th>\n",
       "      <td>...</td>\n",
       "      <td>...</td>\n",
       "      <td>...</td>\n",
       "      <td>...</td>\n",
       "      <td>...</td>\n",
       "    </tr>\n",
       "    <tr>\n",
       "      <th>171</th>\n",
       "      <td>70410</td>\n",
       "      <td>ref_instruction</td>\n",
       "      <td>71.0</td>\n",
       "      <td>2.051737</td>\n",
       "      <td>0.554354</td>\n",
       "    </tr>\n",
       "    <tr>\n",
       "      <th>172</th>\n",
       "      <td>8640</td>\n",
       "      <td>instruction</td>\n",
       "      <td>38.0</td>\n",
       "      <td>0.824213</td>\n",
       "      <td>0.352269</td>\n",
       "    </tr>\n",
       "    <tr>\n",
       "      <th>173</th>\n",
       "      <td>8640</td>\n",
       "      <td>pd_fs</td>\n",
       "      <td>55.0</td>\n",
       "      <td>0.559332</td>\n",
       "      <td>0.334781</td>\n",
       "    </tr>\n",
       "    <tr>\n",
       "      <th>174</th>\n",
       "      <td>8640</td>\n",
       "      <td>pd_zs</td>\n",
       "      <td>65.0</td>\n",
       "      <td>0.867127</td>\n",
       "      <td>0.332594</td>\n",
       "    </tr>\n",
       "    <tr>\n",
       "      <th>175</th>\n",
       "      <td>8640</td>\n",
       "      <td>ref_instruction</td>\n",
       "      <td>85.0</td>\n",
       "      <td>0.764379</td>\n",
       "      <td>0.345376</td>\n",
       "    </tr>\n",
       "  </tbody>\n",
       "</table>\n",
       "<p>176 rows × 5 columns</p>\n",
       "</div>"
      ]
     },
     "execution_count": 74,
     "metadata": {},
     "output_type": "execute_result"
    }
   ],
   "execution_count": 74
  },
  {
   "metadata": {},
   "cell_type": "markdown",
   "source": "### Izdelava zaslonskih slik generiranih GUI",
   "id": "81eb135543f52cae"
  },
  {
   "metadata": {
    "ExecuteTime": {
     "end_time": "2025-10-05T20:03:07.045327Z",
     "start_time": "2025-10-05T20:03:07.032328Z"
    }
   },
   "cell_type": "code",
   "source": [
    "from PIL import Image\n",
    "\n",
    "def crop_white_border(image_path):\n",
    "    img = Image.open(image_path)\n",
    "    img_cropped = img.crop(img.getbbox())\n",
    "    img_cropped.save(image_path)"
   ],
   "id": "14cc1c578b9d1180",
   "outputs": [],
   "execution_count": 69
  },
  {
   "metadata": {},
   "cell_type": "code",
   "source": [
    "for gui_id in os.listdir(generated_path):\n",
    "    gui_num = gui_id.split(\".\")[0]\n",
    "\n",
    "    for prompt in prompt_types:\n",
    "        html_path = os.path.join(generated_path, gui_num, f\"{prompt}.html\")\n",
    "        html_img_path = os.path.join(generated_path, gui_num, f\"{prompt}.png\")\n",
    "\n",
    "        if os.path.isfile(html_path) and gui_num == '3261':\n",
    "            rendered_img_path = render_html_to_image(html_path, html_img_path)\n",
    "            crop_white_border(rendered_img_path)\n",
    "            print(\"generirana slika:\", rendered_img_path)"
   ],
   "id": "8a7f071e517dac6c",
   "outputs": [],
   "execution_count": null
  },
  {
   "metadata": {},
   "cell_type": "code",
   "source": [
    "for gui_id in os.listdir(generated_path):\n",
    "    gui_num = gui_id.split(\".\")[0]\n",
    "    print(os.path.join(generated_path, gui_num))"
   ],
   "id": "18df9b3ea98807af",
   "outputs": [],
   "execution_count": null
  },
  {
   "metadata": {},
   "cell_type": "markdown",
   "source": "## Iskanje najboljših rezultatov",
   "id": "21727bb0266f212d"
  },
  {
   "metadata": {
    "ExecuteTime": {
     "end_time": "2025-09-25T09:32:12.518805Z",
     "start_time": "2025-09-25T09:32:12.465804Z"
    }
   },
   "cell_type": "code",
   "source": [
    "import pandas as pd\n",
    "\n",
    "# Najprej povprečimo metrike čez vse promte za isti GUI_ID\n",
    "df_grouped = df.groupby(\"GUI_ID\").agg({\n",
    "    \"DOM_Complexity\": \"mean\",\n",
    "    \"Layout_Area\": \"mean\",\n",
    "    \"SSIM_Score\": \"mean\"\n",
    "}).reset_index()\n",
    "\n",
    "# Normalizacija - deli z max vrednostjo v posamezni metriki\n",
    "for col in [\"DOM_Complexity\", \"Layout_Area\", \"SSIM_Score\"]:\n",
    "    df_grouped[f\"{col}_norm\"] = df_grouped[col] / df_grouped[col].max()\n",
    "\n",
    "# Top 10 po posamezni metriki\n",
    "top10_dom = df_grouped.nlargest(10, \"DOM_Complexity_norm\")[[\"GUI_ID\", \"DOM_Complexity_norm\"]]\n",
    "top10_layout = df_grouped.nlargest(10, \"Layout_Area_norm\")[[\"GUI_ID\", \"Layout_Area_norm\"]]\n",
    "top10_ssim = df_grouped.nlargest(10, \"SSIM_Score_norm\")[[\"GUI_ID\", \"SSIM_Score_norm\"]]\n",
    "\n",
    "# Skupna ocena = povprečje normaliziranih metrik\n",
    "df_grouped[\"Overall_score\"] = df_grouped[[\"DOM_Complexity_norm\", \"Layout_Area_norm\", \"SSIM_Score_norm\"]].mean(axis=1)\n",
    "\n",
    "# Top 5 glede na vse metrike\n",
    "top5_overall = df_grouped.nlargest(5, \"Overall_score\")[[\"GUI_ID\", \"Overall_score\", \"DOM_Complexity_norm\", \"Layout_Area_norm\", \"SSIM_Score_norm\"]]\n",
    "\n",
    "# Rezultati\n",
    "print(\"Top 10 DOM:\")\n",
    "print(top10_dom)\n",
    "print(\"\\nTop 10 Layout:\")\n",
    "print(top10_layout)\n",
    "print(\"\\nTop 10 SSIM:\")\n",
    "print(top10_ssim)\n",
    "print(\"\\nTop 5 Overall:\")\n",
    "print(top5_overall)"
   ],
   "id": "faf2e51bf5eb2cd9",
   "outputs": [
    {
     "name": "stdout",
     "output_type": "stream",
     "text": [
      "Top 10 DOM:\n",
      "   GUI_ID  DOM_Complexity_norm\n",
      "15  67044             1.000000\n",
      "5   34346             0.955882\n",
      "7   38961             0.906863\n",
      "1   18784             0.838235\n",
      "13  63575             0.828431\n",
      "17  69587             0.813725\n",
      "3   30982             0.784314\n",
      "12  59370             0.784314\n",
      "4    3261             0.730392\n",
      "0   18782             0.691176\n",
      "\n",
      "Top 10 Layout:\n",
      "   GUI_ID  Layout_Area_norm\n",
      "4    3261          1.000000\n",
      "11  54377          0.936178\n",
      "15  67044          0.612659\n",
      "16  67045          0.542466\n",
      "18   9007          0.452350\n",
      "17  69587          0.433180\n",
      "0   18782          0.422446\n",
      "13  63575          0.346178\n",
      "2   22151          0.325479\n",
      "12  59370          0.296309\n",
      "\n",
      "Top 10 SSIM:\n",
      "   GUI_ID  SSIM_Score_norm\n",
      "11  54377         1.000000\n",
      "5   34346         0.736718\n",
      "10  53054         0.652607\n",
      "6   34527         0.648571\n",
      "7   38961         0.644231\n",
      "12  59370         0.633640\n",
      "15  67044         0.629270\n",
      "2   22151         0.627555\n",
      "4    3261         0.583165\n",
      "17  69587         0.574624\n",
      "\n",
      "Top 5 Overall:\n",
      "   GUI_ID  Overall_score  DOM_Complexity_norm  Layout_Area_norm  \\\n",
      "11  54377       0.843105             0.593137          0.936178   \n",
      "4    3261       0.771186             0.730392          1.000000   \n",
      "15  67044       0.747310             1.000000          0.612659   \n",
      "7   38961       0.612240             0.906863          0.285625   \n",
      "17  69587       0.607176             0.813725          0.433180   \n",
      "\n",
      "    SSIM_Score_norm  \n",
      "11         1.000000  \n",
      "4          0.583165  \n",
      "15         0.629270  \n",
      "7          0.644231  \n",
      "17         0.574624  \n"
     ]
    }
   ],
   "execution_count": 35
  },
  {
   "metadata": {},
   "cell_type": "markdown",
   "source": "## Vizualizacija rezultatov",
   "id": "1225f6ac2a7a5c58"
  },
  {
   "metadata": {
    "ExecuteTime": {
     "end_time": "2025-09-25T09:34:39.269154Z",
     "start_time": "2025-09-25T09:34:38.371153Z"
    }
   },
   "cell_type": "code",
   "source": [
    "plt.figure(figsize=(12, 6))\n",
    "for metric in [\"DOM_Complexity\", \"Layout_Area\", \"SSIM_Score\"]:\n",
    "    plt.figure()\n",
    "    df.boxplot(column=metric, by=\"Prompt\", grid=False)\n",
    "    plt.title(f\"{metric} by Prompt Type\")\n",
    "    plt.suptitle(\"\")\n",
    "    plt.ylabel(metric)\n",
    "    plt.xlabel(\"Prompt Type\")\n",
    "    plt.xticks(rotation=45)\n",
    "    plt.tight_layout()\n",
    "    plt.show()"
   ],
   "id": "c87cb8f8a95eb5d7",
   "outputs": [
    {
     "data": {
      "text/plain": [
       "<Figure size 1200x600 with 0 Axes>"
      ]
     },
     "metadata": {},
     "output_type": "display_data"
    },
    {
     "data": {
      "text/plain": [
       "<Figure size 640x480 with 0 Axes>"
      ]
     },
     "metadata": {},
     "output_type": "display_data"
    },
    {
     "data": {
      "text/plain": [
       "<Figure size 640x480 with 1 Axes>"
      ],
      "image/png": "[encoded data removed]"
     },
     "metadata": {},
     "output_type": "display_data"
    },
    {
     "data": {
      "text/plain": [
       "<Figure size 640x480 with 0 Axes>"
      ]
     },
     "metadata": {},
     "output_type": "display_data"
    },
    {
     "data": {
      "text/plain": [
       "<Figure size 640x480 with 1 Axes>"
      ],
      "image/png": "[encoded data removed]"
     },
     "metadata": {},
     "output_type": "display_data"
    },
    {
     "data": {
      "text/plain": [
       "<Figure size 640x480 with 0 Axes>"
      ]
     },
     "metadata": {},
     "output_type": "display_data"
    },
    {
     "data": {
      "text/plain": [
       "<Figure size 640x480 with 1 Axes>"
      ],
      "image/png": "[encoded data removed]"
     },
     "metadata": {},
     "output_type": "display_data"
    }
   ],
   "execution_count": 36
  },
  {
   "metadata": {},
   "cell_type": "markdown",
   "source": "## Povzetek rezultatov",
   "id": "86e0df6fbb550cc"
  },
  {
   "metadata": {
    "ExecuteTime": {
     "end_time": "2025-09-25T09:35:02.273176Z",
     "start_time": "2025-09-25T09:35:02.250178Z"
    }
   },
   "cell_type": "code",
   "source": [
    "summary = df.groupby(\"Prompt\")[[\"DOM_Complexity\", \"Layout_Area\", \"SSIM_Score\"]].mean().round(2)\n",
    "summary"
   ],
   "id": "74ba82abb12023cf",
   "outputs": [
    {
     "data": {
      "text/plain": [
       "                 DOM_Complexity  Layout_Area  SSIM_Score\n",
       "Prompt                                                  \n",
       "instruction               30.60         0.20        0.45\n",
       "pd_fs                     38.64         0.46        0.46\n",
       "pd_zs                     33.92         0.29        0.34\n",
       "ref_instruction           52.71         0.30        0.34"
      ],
      "text/html": [
       "<div>\n",
       "<style scoped>\n",
       "    .dataframe tbody tr th:only-of-type {\n",
       "        vertical-align: middle;\n",
       "    }\n",
       "\n",
       "    .dataframe tbody tr th {\n",
       "        vertical-align: top;\n",
       "    }\n",
       "\n",
       "    .dataframe thead th {\n",
       "        text-align: right;\n",
       "    }\n",
       "</style>\n",
       "<table border=\"1\" class=\"dataframe\">\n",
       "  <thead>\n",
       "    <tr style=\"text-align: right;\">\n",
       "      <th></th>\n",
       "      <th>DOM_Complexity</th>\n",
       "      <th>Layout_Area</th>\n",
       "      <th>SSIM_Score</th>\n",
       "    </tr>\n",
       "    <tr>\n",
       "      <th>Prompt</th>\n",
       "      <th></th>\n",
       "      <th></th>\n",
       "      <th></th>\n",
       "    </tr>\n",
       "  </thead>\n",
       "  <tbody>\n",
       "    <tr>\n",
       "      <th>instruction</th>\n",
       "      <td>30.60</td>\n",
       "      <td>0.20</td>\n",
       "      <td>0.45</td>\n",
       "    </tr>\n",
       "    <tr>\n",
       "      <th>pd_fs</th>\n",
       "      <td>38.64</td>\n",
       "      <td>0.46</td>\n",
       "      <td>0.46</td>\n",
       "    </tr>\n",
       "    <tr>\n",
       "      <th>pd_zs</th>\n",
       "      <td>33.92</td>\n",
       "      <td>0.29</td>\n",
       "      <td>0.34</td>\n",
       "    </tr>\n",
       "    <tr>\n",
       "      <th>ref_instruction</th>\n",
       "      <td>52.71</td>\n",
       "      <td>0.30</td>\n",
       "      <td>0.34</td>\n",
       "    </tr>\n",
       "  </tbody>\n",
       "</table>\n",
       "</div>"
      ]
     },
     "execution_count": 37,
     "metadata": {},
     "output_type": "execute_result"
    }
   ],
   "execution_count": 37
  }
 ],
 "metadata": {
  "kernelspec": {
   "display_name": "Python 3",
   "language": "python",
   "name": "python3"
  },
  "language_info": {
   "codemirror_mode": {
    "name": "ipython",
    "version": 2
   },
   "file_extension": ".py",
   "mimetype": "text/x-python",
   "name": "python",
   "nbconvert_exporter": "python",
   "pygments_lexer": "ipython2",
   "version": "2.7.6"
  }
 },
 "nbformat": 4,
 "nbformat_minor": 5
}
