{
 "cells": [
  {
   "metadata": {},
   "cell_type": "markdown",
   "source": [
    "# GUI Evaluation Notebook\n",
    "This notebook evaluates generated GUI prototypes (in HTML) against original GUI images (in JPG) using quantitative metrics.\n",
    "We focus on similarity, visual layout comparison, and DOM complexity analysis."
   ],
   "id": "faf449f263cdf941"
  },
  {
   "metadata": {
    "collapsed": true,
    "ExecuteTime": {
     "end_time": "2025-07-01T19:15:26.580344Z",
     "start_time": "2025-07-01T19:15:26.397340Z"
    }
   },
   "cell_type": "code",
   "source": [
    "import os\n",
    "import json\n",
    "import numpy as np\n",
    "import pandas as pd\n",
    "from PIL import Image\n",
    "from skimage.metrics import structural_similarity as ssim\n",
    "from bs4 import BeautifulSoup\n",
    "import matplotlib.pyplot as plt\n",
    "from IPython.display import display, HTML\n",
    "from html2image import Html2Image\n",
    "from selenium import webdriver\n",
    "from selenium.webdriver.chrome.options import Options"
   ],
   "id": "initial_id",
   "outputs": [],
   "execution_count": 16
  },
  {
   "metadata": {},
   "cell_type": "markdown",
   "source": [
    "# Configuration\n",
    "Paths and evaluation settings."
   ],
   "id": "203b515f2445bb58"
  },
  {
   "metadata": {
    "ExecuteTime": {
     "end_time": "2025-07-01T17:49:42.351484Z",
     "start_time": "2025-07-01T17:49:42.338484Z"
    }
   },
   "cell_type": "code",
   "source": [
    "original_path = \"rico_guis\"\n",
    "generated_path = \"generated_guis\"\n",
    "\n",
    "prompt_types = [\"CoT_fs\", \"CoT_zs\", \"instruction\", \"pd_fs\", \"pd_zs\"]"
   ],
   "id": "f74101db2c4e89ba",
   "outputs": [],
   "execution_count": 3
  },
  {
   "metadata": {},
   "cell_type": "markdown",
   "source": [
    "# Metric Functions\n",
    "We define metrics including:\n",
    "- **SSIM** for visual similarity.\n",
    "- **DOM Complexity** via tag count.\n",
    "- **Layout Area** by summing element bounding boxes (via inline style parsing).\n"
   ],
   "id": "c0e5d84123f0efaa"
  },
  {
   "metadata": {
    "ExecuteTime": {
     "end_time": "2025-07-01T19:34:51.916201Z",
     "start_time": "2025-07-01T19:34:51.889192Z"
    }
   },
   "cell_type": "code",
   "source": [
    "def render_html_to_image(html_path, output_image_path):\n",
    "    try:\n",
    "        hti = Html2Image(output_path=os.path.dirname(output_image_path))\n",
    "        hti.screenshot(\n",
    "            html_file=html_path,\n",
    "            save_as=os.path.join(output_image_path),\n",
    "            size=(800, 1280)  # width x height\n",
    "        )\n",
    "        return output_image_path\n",
    "    except Exception as e:\n",
    "        print(f\"Rendering error {html_path}: {e}\")\n",
    "        return None\n",
    "\n",
    "def compute_ssim(image1_path, image2_path):\n",
    "    try:\n",
    "        img1 = Image.open(image1_path).convert(\"L\").resize((256, 256))\n",
    "        img2 = Image.open(image2_path).convert(\"L\").resize((256, 256))\n",
    "        ssim_val = ssim(np.array(img1), np.array(img2))\n",
    "        return ssim_val\n",
    "    except Exception as e:\n",
    "        print(f\"Error comparing {image1_path} and {image2_path}: {e}\")\n",
    "        return np.nan\n",
    "\n",
    "def compute_dom_complexity(html_path):\n",
    "    try:\n",
    "        with open(html_path, \"r\", encoding=\"utf-8\") as f:\n",
    "            soup = BeautifulSoup(f, \"html.parser\")\n",
    "        return len(soup.find_all())\n",
    "    except Exception as e:\n",
    "        print(f\"Error parsing {html_path}: {e}\")\n",
    "        return np.nan\n",
    "\n",
    "def json_find_bounds(obj):\n",
    "    bounds_list = []\n",
    "    if isinstance(obj, dict):\n",
    "        for k, v in obj.items():\n",
    "            if k == \"bounds\":\n",
    "                x = v[0]\n",
    "                y = v[1]\n",
    "                w = v[2]\n",
    "                h = v[3]\n",
    "                bounds_list.append((x, y, x + w, y + h))\n",
    "            else:\n",
    "                bounds_list.extend(json_find_bounds(v))\n",
    "    elif isinstance(obj, list):\n",
    "        for item in obj:\n",
    "            bounds_list.extend(json_find_bounds(item))\n",
    "    return bounds_list\n",
    "\n",
    "def html_find_bounds(html_path):\n",
    "    try:\n",
    "        chrome_options = Options()\n",
    "        chrome_options.add_argument(\"--headless\")\n",
    "        driver = webdriver.Chrome(options=chrome_options)\n",
    "        driver.set_window_size(1440, 2560)\n",
    "        driver.get(f\"C:\\\\Users\\Marija\\IdeaProjects\\effective-gui-prototyping\\\\{html_path}\")\n",
    "        elements = driver.find_elements(\"css selector\", \"*\")\n",
    "\n",
    "        bounds_list = []\n",
    "        for el in elements:\n",
    "            rect = driver.execute_script(\"\"\"\n",
    "                var rect = arguments[0].getBoundingClientRect();\n",
    "                return {left: rect.left, top: rect.top, width: rect.width, height: rect.height};\n",
    "            \"\"\", el)\n",
    "            if rect['width'] > 0 and rect['height'] > 0:\n",
    "                x = rect[\"left\"]\n",
    "                y = rect[\"top\"]\n",
    "                w = rect[\"width\"]\n",
    "                h = rect[\"height\"]\n",
    "                bounds_list.append((x, y, x + w, y + h))\n",
    "\n",
    "        driver.quit()\n",
    "        return bounds_list\n",
    "\n",
    "    except Exception as e:\n",
    "        print(f\"Error parsing {html_path}: {e}\")\n",
    "        return np.nan\n",
    "\n",
    "def intersection_area(box1, box2):\n",
    "    x1 = max(box1[0], box2[0])\n",
    "    y1 = max(box1[1], box2[1])\n",
    "    x2 = min(box1[2], box2[2])\n",
    "    y2 = min(box1[3], box2[3])\n",
    "    if x2 < x1 or y2 < y1:\n",
    "        return 0\n",
    "    return (x2 - x1) * (y2 - y1)\n",
    "\n",
    "def extract_layout_area(json_path, html_path):\n",
    "    if not os.path.exists(json_path):\n",
    "        print(f\"JSON does not exist {json_path}\")\n",
    "        return 0.0\n",
    "    # try:\n",
    "    #     with open(html_path, \"r\", encoding=\"utf-8\") as f:\n",
    "    #         html_elements = BeautifulSoup(f, \"html.parser\")\n",
    "    # except Exception as e:\n",
    "    #     print(f\"Error parsing {html_path}: {e}\")\n",
    "    #     return np.nan\n",
    "\n",
    "    try:\n",
    "        with open(json_path, 'r') as f:\n",
    "            data = json.load(f)\n",
    "\n",
    "        original_boxes = []\n",
    "        bounds = json_find_bounds(data)\n",
    "        original_boxes.extend(bounds)\n",
    "\n",
    "        generated_boxes = html_find_bounds(html_path)\n",
    "\n",
    "        if not original_boxes or not generated_boxes:\n",
    "            return 0.0\n",
    "\n",
    "        total_intersection = 0\n",
    "        total_area = sum((b[2] - b[0]) * (b[3] - b[1]) for b in original_boxes)\n",
    "\n",
    "        for obox in original_boxes:\n",
    "            for gbox in generated_boxes:\n",
    "                total_intersection += intersection_area(obox, gbox)\n",
    "\n",
    "        return total_intersection / total_area if total_area > 0 else 0.0\n",
    "\n",
    "    except Exception as e:\n",
    "        print(f\"Error parsing {json_path}: {e}\")\n",
    "        return 0.0"
   ],
   "id": "5d25a907a18c5356",
   "outputs": [],
   "execution_count": 33
  },
  {
   "metadata": {},
   "cell_type": "markdown",
   "source": [
    "# Run Evaluation\n",
    "Iterate through all GUI samples and compute metrics."
   ],
   "id": "97a57ecad5a3f6ad"
  },
  {
   "metadata": {
    "ExecuteTime": {
     "end_time": "2025-07-01T19:49:40.730187Z",
     "start_time": "2025-07-01T19:34:53.288113Z"
    }
   },
   "cell_type": "code",
   "source": [
    "results = []\n",
    "\n",
    "for gui_id in os.listdir(original_path):\n",
    "    if not gui_id.endswith(\".jpg\"):\n",
    "        continue\n",
    "    gui_num = gui_id.split(\".\")[0]\n",
    "    original_img_path = os.path.join(original_path, gui_id)\n",
    "    original_json_path = os.path.join(original_path, f\"{gui_num}.json\")\n",
    "\n",
    "    for prompt in prompt_types:\n",
    "        html_path = os.path.join(generated_path, gui_num, f\"{prompt}.html\")\n",
    "        html_img_path = f\"{prompt}.png\"\n",
    "\n",
    "        dom_complexity = compute_dom_complexity(html_path)\n",
    "        layout_area = extract_layout_area(original_json_path, html_path)\n",
    "        rendered_img_path = render_html_to_image(html_path, html_img_path)\n",
    "        ssim_score = compute_ssim(original_img_path, rendered_img_path)\n",
    "\n",
    "        results.append({\n",
    "            \"GUI_ID\": gui_num,\n",
    "            \"Prompt\": prompt,\n",
    "            \"DOM_Complexity\": dom_complexity,\n",
    "            \"Layout_Area\": layout_area,\n",
    "            \"SSIM_Score\": ssim_score\n",
    "        })\n",
    "\n",
    "df = pd.DataFrame(results)\n",
    "df.head()"
   ],
   "id": "4fca6ee72b4b6322",
   "outputs": [
    {
     "data": {
      "text/plain": [
       "  GUI_ID       Prompt  DOM_Complexity  Layout_Area  SSIM_Score\n",
       "0   1264       CoT_fs              24     0.071340    0.526207\n",
       "1   1264       CoT_zs              23     0.080584    0.045800\n",
       "2   1264  instruction              18     0.691916    0.580272\n",
       "3   1264        pd_fs              31     0.189677    0.506057\n",
       "4   1264        pd_zs              42     0.182940    0.422558"
      ],
      "text/html": [
       "<div>\n",
       "<style scoped>\n",
       "    .dataframe tbody tr th:only-of-type {\n",
       "        vertical-align: middle;\n",
       "    }\n",
       "\n",
       "    .dataframe tbody tr th {\n",
       "        vertical-align: top;\n",
       "    }\n",
       "\n",
       "    .dataframe thead th {\n",
       "        text-align: right;\n",
       "    }\n",
       "</style>\n",
       "<table border=\"1\" class=\"dataframe\">\n",
       "  <thead>\n",
       "    <tr style=\"text-align: right;\">\n",
       "      <th></th>\n",
       "      <th>GUI_ID</th>\n",
       "      <th>Prompt</th>\n",
       "      <th>DOM_Complexity</th>\n",
       "      <th>Layout_Area</th>\n",
       "      <th>SSIM_Score</th>\n",
       "    </tr>\n",
       "  </thead>\n",
       "  <tbody>\n",
       "    <tr>\n",
       "      <th>0</th>\n",
       "      <td>1264</td>\n",
       "      <td>CoT_fs</td>\n",
       "      <td>24</td>\n",
       "      <td>0.071340</td>\n",
       "      <td>0.526207</td>\n",
       "    </tr>\n",
       "    <tr>\n",
       "      <th>1</th>\n",
       "      <td>1264</td>\n",
       "      <td>CoT_zs</td>\n",
       "      <td>23</td>\n",
       "      <td>0.080584</td>\n",
       "      <td>0.045800</td>\n",
       "    </tr>\n",
       "    <tr>\n",
       "      <th>2</th>\n",
       "      <td>1264</td>\n",
       "      <td>instruction</td>\n",
       "      <td>18</td>\n",
       "      <td>0.691916</td>\n",
       "      <td>0.580272</td>\n",
       "    </tr>\n",
       "    <tr>\n",
       "      <th>3</th>\n",
       "      <td>1264</td>\n",
       "      <td>pd_fs</td>\n",
       "      <td>31</td>\n",
       "      <td>0.189677</td>\n",
       "      <td>0.506057</td>\n",
       "    </tr>\n",
       "    <tr>\n",
       "      <th>4</th>\n",
       "      <td>1264</td>\n",
       "      <td>pd_zs</td>\n",
       "      <td>42</td>\n",
       "      <td>0.182940</td>\n",
       "      <td>0.422558</td>\n",
       "    </tr>\n",
       "  </tbody>\n",
       "</table>\n",
       "</div>"
      ]
     },
     "execution_count": 34,
     "metadata": {},
     "output_type": "execute_result"
    }
   ],
   "execution_count": 34
  },
  {
   "metadata": {},
   "cell_type": "markdown",
   "source": "# Visualize Metrics",
   "id": "1225f6ac2a7a5c58"
  },
  {
   "metadata": {
    "ExecuteTime": {
     "end_time": "2025-07-01T17:49:50.044401Z",
     "start_time": "2025-07-01T17:49:48.257002Z"
    }
   },
   "cell_type": "code",
   "source": [
    "plt.figure(figsize=(12, 6))\n",
    "for metric in [\"DOM_Complexity\", \"Layout_Area\"]:\n",
    "    plt.figure()\n",
    "    df.boxplot(column=metric, by=\"Prompt\", grid=False)\n",
    "    plt.title(f\"{metric} by Prompt Type\")\n",
    "    plt.suptitle(\"\")\n",
    "    plt.ylabel(metric)\n",
    "    plt.xlabel(\"Prompt Type\")\n",
    "    plt.xticks(rotation=45)\n",
    "    plt.tight_layout()\n",
    "    plt.show()"
   ],
   "id": "c87cb8f8a95eb5d7",
   "outputs": [
    {
     "data": {
      "text/plain": [
       "<Figure size 1200x600 with 0 Axes>"
      ]
     },
     "metadata": {},
     "output_type": "display_data"
    },
    {
     "data": {
      "text/plain": [
       "<Figure size 640x480 with 0 Axes>"
      ]
     },
     "metadata": {},
     "output_type": "display_data"
    },
    {
     "data": {
      "text/plain": [
       "<Figure size 640x480 with 1 Axes>"
      ],
      "image/png": "[encoded data removed]"
     },
     "metadata": {},
     "output_type": "display_data"
    },
    {
     "data": {
      "text/plain": [
       "<Figure size 640x480 with 0 Axes>"
      ]
     },
     "metadata": {},
     "output_type": "display_data"
    },
    {
     "data": {
      "text/plain": [
       "<Figure size 640x480 with 1 Axes>"
      ],
      "image/png": "[encoded data removed]"
     },
     "metadata": {},
     "output_type": "display_data"
    }
   ],
   "execution_count": 6
  },
  {
   "metadata": {},
   "cell_type": "markdown",
   "source": "# Summary Table",
   "id": "86e0df6fbb550cc"
  },
  {
   "metadata": {
    "ExecuteTime": {
     "end_time": "2025-07-01T17:49:50.152404Z",
     "start_time": "2025-07-01T17:49:50.125399Z"
    }
   },
   "cell_type": "code",
   "source": [
    "summary = df.groupby(\"Prompt\")[[\"DOM_Complexity\", \"Layout_Area\"]].mean().round(1)\n",
    "summary"
   ],
   "id": "74ba82abb12023cf",
   "outputs": [
    {
     "data": {
      "text/plain": [
       "             DOM_Complexity  Layout_Area\n",
       "Prompt                                  \n",
       "CoT_fs                 25.7          0.0\n",
       "CoT_zs                 24.7          0.0\n",
       "instruction            21.9          0.0\n",
       "pd_fs                  32.9          0.0\n",
       "pd_zs                  30.6          0.0"
      ],
      "text/html": [
       "<div>\n",
       "<style scoped>\n",
       "    .dataframe tbody tr th:only-of-type {\n",
       "        vertical-align: middle;\n",
       "    }\n",
       "\n",
       "    .dataframe tbody tr th {\n",
       "        vertical-align: top;\n",
       "    }\n",
       "\n",
       "    .dataframe thead th {\n",
       "        text-align: right;\n",
       "    }\n",
       "</style>\n",
       "<table border=\"1\" class=\"dataframe\">\n",
       "  <thead>\n",
       "    <tr style=\"text-align: right;\">\n",
       "      <th></th>\n",
       "      <th>DOM_Complexity</th>\n",
       "      <th>Layout_Area</th>\n",
       "    </tr>\n",
       "    <tr>\n",
       "      <th>Prompt</th>\n",
       "      <th></th>\n",
       "      <th></th>\n",
       "    </tr>\n",
       "  </thead>\n",
       "  <tbody>\n",
       "    <tr>\n",
       "      <th>CoT_fs</th>\n",
       "      <td>25.7</td>\n",
       "      <td>0.0</td>\n",
       "    </tr>\n",
       "    <tr>\n",
       "      <th>CoT_zs</th>\n",
       "      <td>24.7</td>\n",
       "      <td>0.0</td>\n",
       "    </tr>\n",
       "    <tr>\n",
       "      <th>instruction</th>\n",
       "      <td>21.9</td>\n",
       "      <td>0.0</td>\n",
       "    </tr>\n",
       "    <tr>\n",
       "      <th>pd_fs</th>\n",
       "      <td>32.9</td>\n",
       "      <td>0.0</td>\n",
       "    </tr>\n",
       "    <tr>\n",
       "      <th>pd_zs</th>\n",
       "      <td>30.6</td>\n",
       "      <td>0.0</td>\n",
       "    </tr>\n",
       "  </tbody>\n",
       "</table>\n",
       "</div>"
      ]
     },
     "execution_count": 7,
     "metadata": {},
     "output_type": "execute_result"
    }
   ],
   "execution_count": 7
  }
 ],
 "metadata": {
  "kernelspec": {
   "display_name": "Python 3",
   "language": "python",
   "name": "python3"
  },
  "language_info": {
   "codemirror_mode": {
    "name": "ipython",
    "version": 2
   },
   "file_extension": ".py",
   "mimetype": "text/x-python",
   "name": "python",
   "nbconvert_exporter": "python",
   "pygments_lexer": "ipython2",
   "version": "2.7.6"
  }
 },
 "nbformat": 4,
 "nbformat_minor": 5
}
