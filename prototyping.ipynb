{
 "cells": [
  {
   "metadata": {},
   "cell_type": "markdown",
   "source": [
    "# Kreiranje GUI na podlagi opisov\n",
    "\n",
    "## Uvoz knjižnic in nastavitev okolja"
   ]
  },
  {
   "metadata": {
    "ExecuteTime": {
     "end_time": "2025-10-04T17:24:59.611887Z",
     "start_time": "2025-10-04T17:24:59.479891Z"
    }
   },
   "cell_type": "code",
   "source": [
    "from dotenv import load_dotenv\n",
    "from langchain_google_genai import ChatGoogleGenerativeAI #before: langchain.chat_models\n",
    "import pandas as pd\n",
    "from langchain.chains import LLMChain\n",
    "from langfuse.callback import CallbackHandler\n",
    "import os\n",
    "from langchain.chains import SequentialChain\n",
    "import time\n",
    "\n",
    "\n",
    "load_dotenv()\n",
    "handler = CallbackHandler(os.environ.get(\"LANGFUSE_PUBLIC_KEY\"), os.environ.get(\"LANGFUSE_SECRET_KEY\"))"
   ],
   "outputs": [],
   "execution_count": 7
  },
  {
   "cell_type": "code",
   "metadata": {
    "ExecuteTime": {
     "end_time": "2025-10-04T17:37:40.861822Z",
     "start_time": "2025-10-04T17:37:40.841817Z"
    }
   },
   "source": [
    "MODEL = \"gemini-2.5-flash\" # before: gpt-4-1106-preview\n",
    "\n",
    "OUTPUT_FOLDER = \"generated_guis\"\n",
    "DATASET = \"dataset.csv\"\n",
    "\n",
    "df = pd.read_csv(DATASET, header=0, sep=\";\")"
   ],
   "outputs": [],
   "execution_count": 29
  },
  {
   "metadata": {},
   "cell_type": "markdown",
   "source": "## Definicija LLM verig za generiranje GUI kode"
  },
  {
   "metadata": {},
   "cell_type": "markdown",
   "source": "### 1. Instruction prompt"
  },
  {
   "metadata": {
    "ExecuteTime": {
     "end_time": "2025-10-04T17:25:03.707890Z",
     "start_time": "2025-10-04T17:25:03.694892Z"
    }
   },
   "cell_type": "code",
   "source": [
    "from prompts import SUMMARY2CODE_ZS\n",
    "\n",
    "def instruction(summary, temp=0.7):\n",
    "    llm = ChatGoogleGenerativeAI(model=MODEL,temperature=temp)\n",
    "    chain = LLMChain(llm=llm, prompt=SUMMARY2CODE_ZS, callbacks=[handler])\n",
    "\n",
    "    try:\n",
    "        response = chain.run(summary=summary, callbacks=[handler])\n",
    "    except Exception as e:\n",
    "        print(e)\n",
    "\n",
    "    return(response)"
   ],
   "outputs": [],
   "execution_count": 9
  },
  {
   "metadata": {},
   "cell_type": "markdown",
   "source": "### 2. Prompt decomposition (zero-shots)"
  },
  {
   "metadata": {
    "ExecuteTime": {
     "end_time": "2025-10-04T17:25:05.924897Z",
     "start_time": "2025-10-04T17:25:05.900889Z"
    }
   },
   "cell_type": "code",
   "source": [
    "from prompts import SUMMARY2REQUIREMENTS_ZS, REQUIREMENTS2IMPLEMENTATION_ZS, IMPLEMETATION2STRUCTURE_ZS, STRUCTURE2CODE_ZS\n",
    "\n",
    "def pd_zs(summary, temp=0.7):\n",
    "    llm = ChatGoogleGenerativeAI(model=MODEL,temperature=temp)\n",
    "    chain_1 = LLMChain(llm=llm, prompt=SUMMARY2REQUIREMENTS_ZS, output_key=\"requirements\")\n",
    "    chain_2 = LLMChain(llm=llm, prompt=REQUIREMENTS2IMPLEMENTATION_ZS, output_key=\"implementation\")\n",
    "    chain_3 = LLMChain(llm=llm, prompt=IMPLEMETATION2STRUCTURE_ZS, output_key=\"structure\")\n",
    "    chain_4 = LLMChain(llm=llm, prompt=STRUCTURE2CODE_ZS, output_key=\"code\")\n",
    "\n",
    "    seq_chain = SequentialChain(\n",
    "        chains = [chain_1,chain_2,chain_3,chain_4],\n",
    "        input_variables=[\"summary\"])\n",
    "\n",
    "    return(seq_chain.run(summary, callbacks=[handler]))\n"
   ],
   "outputs": [],
   "execution_count": 10
  },
  {
   "metadata": {},
   "cell_type": "markdown",
   "source": "### 3. Prompt decomposition (few-shots)\n"
  },
  {
   "metadata": {
    "ExecuteTime": {
     "end_time": "2025-10-04T17:25:07.887891Z",
     "start_time": "2025-10-04T17:25:07.874891Z"
    }
   },
   "cell_type": "code",
   "source": [
    "from prompts import SUMMARY2REQUIRMENTS_FS, REQUIREMENTS2IMPLEMENTATION_FS, IMPLEMETATION2STRUCTURE_FS, STRUCTURE2CODE_FS\n",
    "\n",
    "def pd_fs(summary, temp=0.7):\n",
    "    llm = ChatGoogleGenerativeAI(model=MODEL,temperature=temp)\n",
    "    chain_1 = LLMChain(llm=llm, prompt=SUMMARY2REQUIRMENTS_FS, output_key=\"requirements\")\n",
    "    chain_2 = LLMChain(llm=llm, prompt=REQUIREMENTS2IMPLEMENTATION_FS, output_key=\"implementation\")\n",
    "    chain_3 = LLMChain(llm=llm, prompt=IMPLEMETATION2STRUCTURE_FS, output_key=\"structure\")\n",
    "    chain_4 = LLMChain(llm=llm, prompt=STRUCTURE2CODE_FS, output_key=\"code\")\n",
    "\n",
    "    seq_chain = SequentialChain(\n",
    "        chains = [chain_1,chain_2,chain_3,chain_4],\n",
    "        input_variables=[\"summary\"])\n",
    "\n",
    "    return(seq_chain.run(summary, callbacks=[handler]))"
   ],
   "outputs": [],
   "execution_count": 11
  },
  {
   "metadata": {},
   "cell_type": "markdown",
   "source": "### 4. Refined instruction prompt"
  },
  {
   "metadata": {
    "ExecuteTime": {
     "end_time": "2025-10-04T17:25:11.622890Z",
     "start_time": "2025-10-04T17:25:11.611889Z"
    }
   },
   "cell_type": "code",
   "source": [
    "from prompts import REFINE_SUMMARY_ZS\n",
    "\n",
    "def ref_summary(summary, temp=1):\n",
    "    llm = ChatGoogleGenerativeAI(model=MODEL,temperature=temp)\n",
    "    chain = LLMChain(llm=llm, prompt=REFINE_SUMMARY_ZS, callbacks=[handler])\n",
    "\n",
    "    try:\n",
    "        response = chain.run(summary=summary, callbacks=[handler])\n",
    "\n",
    "    except Exception as e:\n",
    "        print(e)\n",
    "\n",
    "    return(response)"
   ],
   "outputs": [],
   "execution_count": 12
  },
  {
   "metadata": {
    "ExecuteTime": {
     "end_time": "2025-10-04T17:25:12.204891Z",
     "start_time": "2025-10-04T17:25:12.192891Z"
    }
   },
   "cell_type": "code",
   "source": [
    "from prompts import REF_SUMMARY2CODE_ZS\n",
    "\n",
    "def ref_instruction(summary, temp=1):\n",
    "    llm = ChatGoogleGenerativeAI(model=MODEL,temperature=temp)\n",
    "    chain = LLMChain(llm=llm, prompt=REF_SUMMARY2CODE_ZS, callbacks=[handler])\n",
    "\n",
    "    try:\n",
    "        refined_summary = ref_summary(summary)\n",
    "        response = chain.run(summary=refined_summary, callbacks=[handler])\n",
    "    except Exception as e:\n",
    "        print(e)\n",
    "\n",
    "    return(response)"
   ],
   "outputs": [],
   "execution_count": 13
  },
  {
   "metadata": {},
   "cell_type": "markdown",
   "source": "## Izvleček HTML kode in shranjevanje datotek"
  },
  {
   "metadata": {
    "ExecuteTime": {
     "end_time": "2025-10-04T17:49:38.419120Z",
     "start_time": "2025-10-04T17:49:38.407120Z"
    }
   },
   "cell_type": "code",
   "source": [
    "import re\n",
    "\n",
    "def extract_html(code, file, folder):\n",
    "    html_content = re.search(r'<!DOCTYPE html>.*</html>', code, re.DOTALL)\n",
    "    extracted_text = html_content.group()\n",
    "    try:\n",
    "        with open(f\"{folder}/{file}.html\", 'w', encoding=\"utf-8\") as f:\n",
    "            f.write(extracted_text)\n",
    "    except Exception as e:\n",
    "        print(f\"{file} failed\")\n",
    "        print(e)"
   ],
   "outputs": [],
   "execution_count": 34
  },
  {
   "metadata": {},
   "cell_type": "markdown",
   "source": "## Glavna funkcija za prototipiranje\n"
  },
  {
   "metadata": {
    "ExecuteTime": {
     "end_time": "2025-10-04T17:25:24.742676Z",
     "start_time": "2025-10-04T17:25:24.730673Z"
    }
   },
   "cell_type": "code",
   "source": [
    "def prototyping(summary, folder):\n",
    "    timings = {}\n",
    "\n",
    "    start = time.time()\n",
    "    code = instruction(summary)\n",
    "    extract_html(code, \"instruction\", folder)\n",
    "    timings[\"instruction\"] = time.time() - start\n",
    "\n",
    "    start = time.time()\n",
    "    code = pd_zs(summary)\n",
    "    extract_html(code, \"pd_zs\", folder)\n",
    "    timings[\"pd_zs\"] = time.time() - start\n",
    "\n",
    "    start = time.time()\n",
    "    code = pd_fs(summary)\n",
    "    extract_html(code, \"pd_fs\", folder)\n",
    "    timings[\"pd_fs\"] = time.time() - start\n",
    "\n",
    "    start = time.time()\n",
    "    code = ref_instruction(summary)\n",
    "    extract_html(code, \"ref_instruction\", folder)\n",
    "    timings[\"ref_instruction\"] = time.time() - start\n",
    "\n",
    "    return timings\n"
   ],
   "outputs": [],
   "execution_count": 15
  },
  {
   "metadata": {},
   "cell_type": "markdown",
   "source": "## Zagon pipeline-a za generiranje rezultatov\n"
  },
  {
   "metadata": {
    "ExecuteTime": {
     "end_time": "2025-10-04T17:49:58.410896Z",
     "start_time": "2025-10-04T17:49:58.398893Z"
    }
   },
   "cell_type": "code",
   "source": [
    "def pipeline():\n",
    "    all_timings = []\n",
    "    for index, row in df.iterrows():\n",
    "        path = f\"{OUTPUT_FOLDER}/{row['UI_Number']}\"\n",
    "\n",
    "        if os.path.exists(path):\n",
    "            continue\n",
    "\n",
    "        os.makedirs(path)\n",
    "        timings = prototyping(row['Summary'], path)\n",
    "        timings_record = {\n",
    "            \"UI_Number\": row['UI_Number'],\n",
    "            **timings\n",
    "        }\n",
    "        all_timings.append(timings_record)\n",
    "\n",
    "    timings_df = pd.DataFrame(all_timings)\n",
    "    output_csv_path = \"generation_timings.csv\"\n",
    "\n",
    "    if os.path.exists(output_csv_path):\n",
    "        existing_df = pd.read_csv(output_csv_path, encoding=\"utf-8\")\n",
    "        combined_df = pd.concat([existing_df, timings_df], ignore_index=True)\n",
    "        combined_df.to_csv(output_csv_path, index=False, encoding=\"utf-8\")\n",
    "    else:\n",
    "        timings_df.to_csv(output_csv_path, index=False, encoding=\"utf-8\")\n",
    "\n",
    "    return timings_df\n"
   ],
   "outputs": [],
   "execution_count": 35
  },
  {
   "metadata": {},
   "cell_type": "code",
   "source": "pipeline()",
   "outputs": [],
   "execution_count": null
  },
  {
   "metadata": {},
   "cell_type": "markdown",
   "source": "### Testiranje in ročno izvajanje ter shranjevanje rezultatov"
  },
  {
   "metadata": {},
   "cell_type": "code",
   "source": [
    "def test_pipeline():\n",
    "    for index, row in df.iterrows():\n",
    "        code = ref_instruction(row['Summary'])\n",
    "        file = \"ref_instruction\"\n",
    "        folder = f\"{OUTPUT_FOLDER}/{row['UI Number']}\"\n",
    "\n",
    "        html_content = re.search(r'<!DOCTYPE html>.*</html>', code, re.DOTALL)\n",
    "        extracted_text = html_content.group()\n",
    "        try:\n",
    "            with open(f\"{folder}/{file}.html\", 'w', encoding=\"utf-8\") as f:\n",
    "                f.write(extracted_text)\n",
    "                print(row['UI Number'])\n",
    "        except Exception as e:\n",
    "            print(f\"{file} failed\")\n",
    "            print(e)\n",
    "\n",
    "test_pipeline()"
   ],
   "outputs": [],
   "execution_count": null
  }
 ],
 "metadata": {
  "kernelspec": {
   "display_name": ".venv",
   "language": "python",
   "name": "python3"
  },
  "language_info": {
   "codemirror_mode": {
    "name": "ipython",
    "version": 3
   },
   "file_extension": ".py",
   "mimetype": "text/x-python",
   "name": "python",
   "nbconvert_exporter": "python",
   "pygments_lexer": "ipython3",
   "version": "3.11.0"
  }
 },
 "nbformat": 4,
 "nbformat_minor": 2
}
