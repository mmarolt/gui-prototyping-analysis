{
 "cells": [
  {
   "cell_type": "code",
   "id": "initial_id",
   "metadata": {
    "collapsed": true,
    "ExecuteTime": {
     "end_time": "2025-10-07T19:33:19.301057Z",
     "start_time": "2025-10-07T19:33:18.831052Z"
    }
   },
   "source": [
    "import os\n",
    "import re\n",
    "import csv\n",
    "from bs4 import BeautifulSoup\n",
    "\n",
    "generated_guis_path = '../generated_guis'\n",
    "app_ids = ['12740', '14283', '18782', '20947', '22151', '27360', '27382', '27707', '30982', '31390', '32310', '3261', '33383', '34346', '34517', '34527', '35526', '3727', '37505', '38961', '40673', '43872', '43977', '44756', '47926', '49794', '53054', '53469', '54377', '54468', '56905', '58124', '59429', '59576', '61851', '63575', '64858', '65592', '67044', '68368', '69574', '69587', '70410', '8640']\n",
    "method_names = ['instruction', 'pd_zs', 'pd_fs', 'ref_instruction']\n",
    "dimension_target = (375, 667)"
   ],
   "outputs": [],
   "execution_count": 1
  },
  {
   "metadata": {
    "ExecuteTime": {
     "end_time": "2025-10-07T19:33:19.347050Z",
     "start_time": "2025-10-07T19:33:19.319051Z"
    }
   },
   "cell_type": "code",
   "source": [
    "def get_html_files():\n",
    "    files = []\n",
    "    for app_id in app_ids:\n",
    "        for method in method_names:\n",
    "            html_path = os.path.join(generated_guis_path, str(app_id), f'{method}.html')\n",
    "            if os.path.isfile(html_path):\n",
    "                files.append({'UI_Number': app_id, 'Method': method, 'path': html_path})\n",
    "    return files\n",
    "\n",
    "def analyze_html(fileinfo):\n",
    "    with open(fileinfo['path'], encoding='utf-8') as f:\n",
    "        soup = BeautifulSoup(f, 'html.parser')\n",
    "\n",
    "    # All buttons (button, input[type=button|submit|reset])\n",
    "    buttons = soup.find_all('button')\n",
    "    input_buttons = soup.find_all('input', {'type': re.compile('button|submit|reset', re.I)})\n",
    "    all_buttons = buttons + input_buttons\n",
    "    diff_buttons = set()\n",
    "\n",
    "    for b in all_buttons:\n",
    "        key = (b.get('id'), b.get('name'), b.get_text(strip=True), b.get('value'))\n",
    "        diff_buttons.add(key)\n",
    "\n",
    "    # Clickable buttons (with onclick or type submit/reset/button)\n",
    "    clickable_buttons = [b for b in all_buttons if b.has_attr('onclick') or b.get('type') in ['submit', 'button', 'reset']]\n",
    "\n",
    "    # Action buttons (with event: onclick, onsubmit, or inside <form>)\n",
    "    action_buttons = []\n",
    "    for b in all_buttons:\n",
    "        if b.has_attr('onclick') or b.has_attr('onsubmit'):\n",
    "            action_buttons.append(b)\n",
    "        # Button inside form (submit action)\n",
    "        parent = b.find_parent('form')\n",
    "        if parent:\n",
    "            action_buttons.append(b)\n",
    "\n",
    "    # All input fields\n",
    "    input_fields = soup.find_all('input')\n",
    "    textareas = soup.find_all('textarea')\n",
    "    selects = soup.find_all('select')\n",
    "    all_inputs = input_fields + textareas + selects\n",
    "    diff_inputs = set()\n",
    "    for inp in all_inputs:\n",
    "        key = (inp.get('id'), inp.get('name'), inp.get('type'))\n",
    "        diff_inputs.add(key)\n",
    "\n",
    "    # Dimension – check for exact dimension in body, html, main container, or iframe\n",
    "    dimension_found = False\n",
    "    for tag in [soup.body, soup.html]:\n",
    "        if tag:\n",
    "            w = tag.get('width') or tag.get('style')\n",
    "            h = tag.get('height') or tag.get('style')\n",
    "            # Typically style=\"width:375px; height:667px;\"\n",
    "            if w and h:\n",
    "                if ('375' in str(w) and '667' in str(h)) or ('375' in str(h) and '667' in str(w)):\n",
    "                    dimension_found = True\n",
    "    # Occasionally set in div with id/root/container\n",
    "    for div in soup.find_all('div'):\n",
    "        style = div.get('style')\n",
    "        if style and '375px' in style and '667px' in style:\n",
    "            dimension_found = True\n",
    "\n",
    "    return {\n",
    "        'UI_Number': fileinfo['UI_Number'],\n",
    "        'Method': fileinfo['Method'],\n",
    "        'All_inputs': len(all_inputs),\n",
    "        'Diff_inputs': len(diff_inputs),\n",
    "        'All_buttons': len(all_buttons),\n",
    "        'Diff_buttons': len(diff_buttons),\n",
    "        'Clickable_buttons': len(clickable_buttons),\n",
    "        'Action_buttons': len(set(action_buttons)),\n",
    "        'Dimension_375x667': 'YES' if dimension_found else 'NO'\n",
    "    }"
   ],
   "id": "e19cbce99c697b04",
   "outputs": [],
   "execution_count": 2
  },
  {
   "metadata": {
    "ExecuteTime": {
     "end_time": "2025-10-07T19:33:21.803049Z",
     "start_time": "2025-10-07T19:33:20.426052Z"
    }
   },
   "cell_type": "code",
   "source": [
    "html_files = get_html_files()\n",
    "results = []\n",
    "for f in html_files:\n",
    "    res = analyze_html(f)\n",
    "    results.append(res)\n",
    "\n",
    "with open('gui_prototype_analysis.csv', 'w', newline='', encoding='utf-8') as csvfile:\n",
    "    fieldnames = ['UI_Number', 'Method', 'All_inputs', 'Diff_inputs',\n",
    "                  'All_buttons', 'Diff_buttons', 'Clickable_buttons', 'Action_buttons', 'Dimension_375x667']\n",
    "    writer = csv.DictWriter(csvfile, fieldnames=fieldnames, delimiter=';')\n",
    "    writer.writeheader()\n",
    "    for r in results:\n",
    "        writer.writerow(r)\n",
    "\n",
    "print(\"Analysis complete. Results saved to gui_prototype_analysis.csv\")"
   ],
   "id": "3cbd05cba6df442",
   "outputs": [
    {
     "name": "stdout",
     "output_type": "stream",
     "text": [
      "Analysis complete. Results saved to gui_prototype_analysis.csv\n"
     ]
    }
   ],
   "execution_count": 3
  },
  {
   "metadata": {},
   "cell_type": "code",
   "outputs": [],
   "execution_count": null,
   "source": "",
   "id": "f06d966af98268c1"
  }
 ],
 "metadata": {
  "kernelspec": {
   "display_name": "Python 3",
   "language": "python",
   "name": "python3"
  },
  "language_info": {
   "codemirror_mode": {
    "name": "ipython",
    "version": 2
   },
   "file_extension": ".py",
   "mimetype": "text/x-python",
   "name": "python",
   "nbconvert_exporter": "python",
   "pygments_lexer": "ipython2",
   "version": "2.7.6"
  }
 },
 "nbformat": 4,
 "nbformat_minor": 5
}
