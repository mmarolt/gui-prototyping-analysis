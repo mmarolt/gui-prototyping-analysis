{
 "cells": [
  {
   "metadata": {
    "collapsed": true,
    "ExecuteTime": {
     "end_time": "2025-10-16T19:11:21.862041Z",
     "start_time": "2025-10-16T19:11:21.835036Z"
    }
   },
   "cell_type": "code",
   "source": [
    "import os\n",
    "import pandas as pd\n",
    "import numpy as np\n",
    "import matplotlib.pyplot as plt\n",
    "import seaborn as sns\n",
    "from pathlib import Path\n",
    "\n",
    "generated_guis_path = '../generated_guis'\n",
    "prompts = [\"instruction\", \"pd_zs\", \"pd_fs\", \"ref_instruction\"]\n",
    "metrics = ['nonresponsive', 'overlap', 'boundary', \"dimensions\", \"description\", \"spacing\", \"color\", \"focus\", \"labels\", \"errors\"]\n",
    "\n",
    "app_ids = [name for name in os.listdir(generated_guis_path) if os.path.isdir(os.path.join(generated_guis_path, name))]"
   ],
   "id": "initial_id",
   "outputs": [],
   "execution_count": 71
  },
  {
   "metadata": {},
   "cell_type": "code",
   "source": [
    "df1 = pd.read_csv('./design_evaluation/dimensions_activeness_overlap.csv', delimiter=';')\n",
    "df2 = pd.read_csv('./description_validation/description_validation.csv', delimiter=';')\n",
    "df3 = pd.read_csv('./alignment_color_focus.csv', delimiter=',')\n",
    "df4 = pd.read_csv('./console_errors.csv', delimiter=';')\n",
    "\n",
    "df_new = pd.DataFrame()\n",
    "df_new['app_id'] = df1['app_id']\n",
    "df_new['prompt'] = df1['prompt']\n",
    "df_new['nonresponsive'] = 1 - (df1['nonresponsive'] / df1['all'])\n",
    "df_new['overlap'] = 1 - (df1['overlap'] / df1['all'])\n",
    "df_new['boundary'] = 1 - (df1['boundary'] / df1['all'])\n",
    "df_new['dimensions'] = 1 - df1['dimensions']\n",
    "df_new['description'] = df2['correct'] / df2['all']\n",
    "df_new['spacing'] = df3['spacing_md']\n",
    "df_new['color'] = df3['color_contrast']\n",
    "df_new['focus'] = df3['focusable_ratio']\n",
    "df_new['labels'] = df3['labelled_ratio']\n",
    "df_new['errors'] = 1 - df4['errors'] / df4['errors'].max()\n",
    "\n",
    "agg_df = df_new.groupby(\"app_id\")[metrics].mean().reset_index()\n",
    "\n",
    "summary = agg_df[metrics].describe().T\n",
    "summary[\"mean\"] = summary[\"mean\"].round(3)\n",
    "summary[\"std\"] = summary[\"std\"].round(3)\n",
    "summary[\"min\"] = summary[\"min\"].round(3)\n",
    "summary[\"max\"] = summary[\"max\"].round(3)\n",
    "display(summary)"
   ],
   "id": "ceafc5acf0fb861c",
   "outputs": [],
   "execution_count": null
  },
  {
   "metadata": {},
   "cell_type": "code",
   "source": [
    "OUT_DIR = Path(\"plots\")\n",
    "OUT_DIR.mkdir(exist_ok=True)\n",
    "\n",
    "metric_vector = df_new.groupby(\"app_id\")[metrics].mean().reset_index()\n",
    "metric_vector[\"mean_score\"] = metric_vector[metrics].mean(axis=1)\n",
    "\n",
    "display(metric_vector.sort_values(\"mean_score\", ascending=False).head(10))\n",
    "\n",
    "for m in metrics:\n",
    "    plt.figure(figsize=(6,4))\n",
    "    sns.histplot(df_new[m], bins=20, kde=True)\n",
    "    plt.title(f\"Distribucija metrike: {m}\")\n",
    "    plt.xlabel(\"Vrednost (0–1)\")\n",
    "    plt.ylabel(\"Število primerov\")\n",
    "    plt.tight_layout()\n",
    "    plt.savefig(OUT_DIR / f\"dist_{m}.png\")\n",
    "    plt.close()\n",
    "\n",
    "plt.figure(figsize=(8,5))\n",
    "sns.boxplot(data=df_new[metrics])\n",
    "plt.title(\"Porazdelitev metrik (boxplot)\")\n",
    "plt.ylabel(\"Vrednost\")\n",
    "plt.tight_layout()\n",
    "plt.savefig(OUT_DIR / \"boxplot_all_metrics.png\")\n",
    "plt.close()\n",
    "\n",
    "corr = df_new[metrics].corr()\n",
    "plt.figure(figsize=(6,5))\n",
    "sns.heatmap(corr, annot=True, cmap=\"Blues\", vmin=0, vmax=1)\n",
    "plt.title(\"Korelacijska matrika med metrikami\")\n",
    "plt.tight_layout()\n",
    "plt.savefig(OUT_DIR / \"correlation_heatmap.png\")\n",
    "plt.close()\n",
    "\n",
    "print(\"Povzetek korelacij:\")\n",
    "display(corr)"
   ],
   "id": "fad8e3bf19d70f28",
   "outputs": [],
   "execution_count": null
  },
  {
   "metadata": {},
   "cell_type": "code",
   "source": [
    "for m in metrics:\n",
    "    q1 = df_new[m].quantile(0.25)\n",
    "    q2 = df_new[m].quantile(0.50)\n",
    "    q3 = df_new[m].quantile(0.75)\n",
    "    conditions = [\n",
    "        df_new[m] < q1,\n",
    "        (df_new[m] >= q1) & (df_new[m] < q2),\n",
    "        (df_new[m] >= q2) & (df_new[m] < q3),\n",
    "        df_new[m] >= q3\n",
    "    ]\n",
    "    choices = [\"Q1\", \"Q2\", \"Q3\", \"Q4\"]\n",
    "    df_new[f\"{m}_quantile\"] = np.select(\n",
    "            conditions,\n",
    "            choices,\n",
    "            default=None\n",
    "        ).astype(object)\n",
    "\n",
    "mask = pd.DataFrame([\n",
    "    df_new[f\"{m}_quantile\"] != \"Q1\" for m in metrics\n",
    "]).all(axis=0)\n",
    "\n",
    "best_app_ids = df_new.loc[mask, \"app_id\"].unique()\n",
    "\n",
    "print(\"Najboljši:\", best_app_ids)"
   ],
   "id": "6669e101cd599cee",
   "outputs": [],
   "execution_count": null
  }
 ],
 "metadata": {
  "kernelspec": {
   "display_name": "Python 3",
   "language": "python",
   "name": "python3"
  },
  "language_info": {
   "codemirror_mode": {
    "name": "ipython",
    "version": 2
   },
   "file_extension": ".py",
   "mimetype": "text/x-python",
   "name": "python",
   "nbconvert_exporter": "python",
   "pygments_lexer": "ipython2",
   "version": "2.7.6"
  }
 },
 "nbformat": 4,
 "nbformat_minor": 5
}
