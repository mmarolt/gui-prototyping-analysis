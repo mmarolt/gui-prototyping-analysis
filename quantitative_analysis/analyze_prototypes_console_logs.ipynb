{
 "cells": [
  {
   "metadata": {},
   "cell_type": "markdown",
   "source": "# Analyze HTML GUI Prototypes: Console Error & Warning Counter\n",
   "id": "461c480f255b7e6a"
  },
  {
   "metadata": {
    "ExecuteTime": {
     "end_time": "2025-10-06T19:53:54.630076Z",
     "start_time": "2025-10-06T19:53:54.618075Z"
    }
   },
   "cell_type": "code",
   "source": [
    "import os\n",
    "from selenium import webdriver\n",
    "from selenium.webdriver.chrome.options import Options\n",
    "import pandas as pd"
   ],
   "id": "2d06a03721a3d0d3",
   "outputs": [],
   "execution_count": 13
  },
  {
   "metadata": {
    "ExecuteTime": {
     "end_time": "2025-10-06T19:53:55.435080Z",
     "start_time": "2025-10-06T19:53:55.423082Z"
    }
   },
   "cell_type": "code",
   "source": [
    "# Path to your generated_guis folder\n",
    "generated_guis_path = '../generated_guis'\n",
    "# List of app IDs and method names (adjust as needed)\n",
    "app_ids = ['12740', '14283', '18782', '20947', '22151', '27360', '27382', '27707', '30982', '31390', '32310', '3261', '33383', '34346', '34517', '34527', '35526', '3727', '37505', '38961', '40673', '43872', '43977', '44756', '47926', '49794', '53054', '53469', '54377', '54468', '56905', '58124', '59429', '59576', '61851', '63575', '64858', '65592', '67044', '68368', '69574', '69587', '70410', '8640']\n",
    "method_names = ['instruction', 'pd_zs', 'pd_fs', 'ref_instruction']"
   ],
   "id": "33ac57401bef6185",
   "outputs": [],
   "execution_count": 14
  },
  {
   "metadata": {
    "ExecuteTime": {
     "end_time": "2025-10-06T19:53:56.151074Z",
     "start_time": "2025-10-06T19:53:56.109081Z"
    }
   },
   "cell_type": "code",
   "source": [
    "# Prepare list of HTML file paths and metadata\n",
    "prototype_files = []\n",
    "for app_id in app_ids:\n",
    "    for method in method_names:\n",
    "        html_path = os.path.join(generated_guis_path, str(app_id), f'{method}.html')\n",
    "        if os.path.isfile(html_path):\n",
    "            prototype_files.append({'app_id': app_id, 'method': method, 'path': html_path})"
   ],
   "id": "e87ebefe9506947f",
   "outputs": [],
   "execution_count": 15
  },
  {
   "metadata": {
    "ExecuteTime": {
     "end_time": "2025-10-06T19:53:57.103080Z",
     "start_time": "2025-10-06T19:53:57.090076Z"
    }
   },
   "cell_type": "code",
   "source": [
    "# Selenium Chrome options for local files\n",
    "chrome_options = Options()\n",
    "chrome_options.add_argument('--headless')  # Run headless (no UI)\n",
    "chrome_options.add_argument('--allow-file-access-from-files')\n",
    "chrome_options.add_argument('--disable-gpu')\n",
    "chrome_options.add_argument('--log-level=3')\n",
    "chrome_options.set_capability('goog:loggingPrefs', {'browser': 'ALL'})"
   ],
   "id": "a86c06b7f2c76715",
   "outputs": [],
   "execution_count": 16
  },
  {
   "metadata": {
    "ExecuteTime": {
     "end_time": "2025-10-06T19:53:59.797075Z",
     "start_time": "2025-10-06T19:53:58.308076Z"
    }
   },
   "cell_type": "code",
   "source": [
    "results = []\n",
    "driver = webdriver.Chrome(options=chrome_options)"
   ],
   "id": "94bdbfae70d58478",
   "outputs": [],
   "execution_count": 17
  },
  {
   "metadata": {
    "ExecuteTime": {
     "end_time": "2025-10-06T19:59:09.177072Z",
     "start_time": "2025-10-06T19:54:01.143075Z"
    }
   },
   "cell_type": "code",
   "source": [
    "for proto in prototype_files:\n",
    "    file_url = 'file://' + os.path.abspath(proto['path'])\n",
    "    driver.get(file_url)\n",
    "\n",
    "    # Wait for JS to execute (can adjust time)\n",
    "    driver.implicitly_wait(2)\n",
    "\n",
    "    logs = driver.get_log('browser')\n",
    "    error_messages = [log['message'] for log in logs if log['level'] == 'SEVERE']\n",
    "    warning_messages = [log['message'] for log in logs if log['level'] == 'WARNING']\n",
    "    results.append({\n",
    "        'app_id': proto['app_id'],\n",
    "        'method': proto['method'],\n",
    "        'errors': len(error_messages),\n",
    "        'warnings': len(warning_messages),\n",
    "        'error_descriptions': ' || '.join(error_messages),\n",
    "        'warning_descriptions': ' || '.join(warning_messages)\n",
    "    })"
   ],
   "id": "b265cb4d01f11c44",
   "outputs": [],
   "execution_count": 18
  },
  {
   "metadata": {
    "ExecuteTime": {
     "end_time": "2025-10-06T19:59:55.414581Z",
     "start_time": "2025-10-06T19:59:53.179853Z"
    }
   },
   "cell_type": "code",
   "source": "driver.quit()",
   "id": "91b1f515523a3de8",
   "outputs": [],
   "execution_count": 19
  },
  {
   "metadata": {},
   "cell_type": "code",
   "source": [
    "# Display results as table\n",
    "df = pd.DataFrame(results)\n",
    "df"
   ],
   "id": "f5fe45246c83fbf",
   "outputs": [],
   "execution_count": null
  },
  {
   "metadata": {
    "ExecuteTime": {
     "end_time": "2025-10-06T19:59:57.484578Z",
     "start_time": "2025-10-06T19:59:57.462581Z"
    }
   },
   "cell_type": "code",
   "source": [
    "# Save to CSV\n",
    "df.to_csv('prototypes_console_errors.csv', index=False, sep=';')"
   ],
   "id": "dc58a33203b23ad4",
   "outputs": [],
   "execution_count": 21
  }
 ],
 "metadata": {
  "kernelspec": {
   "display_name": "Python 3",
   "language": "python",
   "name": "python3"
  },
  "language_info": {
   "codemirror_mode": {
    "name": "ipython",
    "version": 2
   },
   "file_extension": ".py",
   "mimetype": "text/x-python",
   "name": "python",
   "nbconvert_exporter": "python",
   "pygments_lexer": "ipython2",
   "version": "2.7.6"
  }
 },
 "nbformat": 4,
 "nbformat_minor": 5
}
